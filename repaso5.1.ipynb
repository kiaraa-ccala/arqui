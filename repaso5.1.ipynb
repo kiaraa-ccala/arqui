%%file Moving_Average_C.c
void Moving_Average_C(int *Vin, int N, int W, float *Vout){
    int datos= (W-1)/2;
    for(int i=0; i<N; i++){
        Vout[i]=0;
        if (i<datos){
            for(int j=0; j<W ;j++){
                Vout[i]+=Vin[j];
                }
            Vout[i]=Vout[i]/(float)W;
            }
        if (i>=datos && i<=N-datos-1){
            for(int k=i-datos; k<i+datos; k++){
                Vout[i]+=Vin[k];
                }
            Vout[i]=Vout[i]/(float)W;
            }
        if (i>N-datos-1){
            for(int l=N-1;l>N-1-W;l--){
                Vout[i]+=Vin[l];
            }
            Vout[i]=Vout[i]/(float)W;
            }
    }
}


......


def Moving_Average_Py_No_Numpy(Vin,W,N,Vout):
  despla=(W-1)/2
  for i in range(N):
    Vout[i]=0
    if(i<despla):
      for j in range(W):
        Vout[i]+=Vin[j]
      Vout[i]=Vout[i]/W
    if (i>=despla and i<N-despla-1):
      for k in range(i-datos,i+datos+1):
        Vout[i]+=Vin[k]
      Vout[i]=Vout[i]/W
    if (i>N-despla-1):
      for l in range(N-W-1,N):
        Vout[i]+=Vin[l]
      Vout[i]=Vout[i]/W

.....

import numpy as np
def Moving_Average_Py_Numpy(Vin,W,N,Vout):
  desplaza=(W-1)/2
  for i in range(N):
    if(i<desplaza):
      prim=np.array(Vin[0:W])
      Vout[i]=np.mean(prim)

    if (i>=desplaza and i<N-desplaza-1):
      prima=np.array(Vin[i-desplaza:i+desplaza+1])
      Vout[i]=np.mean(prima)
    if (i>N-desplaza-1):
      primario=np.array(Vin[N-w:N])
      Vout[i]=np.mean(primario)
  np.array(Vout,dtype=np.float32)


.....

import ctypes
def ctypes_Moving_Average_C():
    libfile = './Moving_Average_C.so'
    lib = ctypes.CDLL(libfile)
    lib.Moving_Average_C.argtypes = [
        np.ctypeslib.ndpointer(dtype=np.int32), ctypes.c_int,ctypes.c_int ,np.ctypeslib.ndpointer(dtype=np.float32)
    ]
    return lib.Moving_Average_C

....

! gcc -c Moving_Average_C.c


! gcc -shared Moving_Average_C.o -o Moving_Average_C.so


Moving_Average_C = ctypes_Moving_Average_C()

....
Vin=np.random.randint(100, size=(16)).astype(np.int32)
Vout=np.zeros_like(Vin,dtype=np.float32)
W=7
N=16
print(Vin)
Moving_Average_C(Vin,N,W,Vout)
Vout_c=Vout
Vout=np.zeros_like(Vin)
Moving_Average_Py_No_Numpy(Vin,W,N,Vout)
Vout_py=Vout
Vout=np.zeros_like(Vin)
Moving_Average_Py_Numpy(Vin,W,N,Vout)
Vout_py_np=Vout
print(Vin)
print("En c es : ",Vout_c)
print("En python sin numpy es: ",Vout_py)
print("En python sin numpy es: ",Vout_py_np)




